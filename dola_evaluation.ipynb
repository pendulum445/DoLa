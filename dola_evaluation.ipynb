{
  "cells": [
    {
      "cell_type": "markdown",
      "metadata": {
        "id": "gH2115o2tVsf"
      },
      "source": [
        "# DoLa: Decoding by Contrasting Layers Improves Factuality in Large Language Models\n",
        "\n",
        "**TL;DR:** We proposed a novel decoding method by contrasting layerwise knowledge to improve factuality of large language models.\n",
        "<p align=\"center\"><img src=\"https://raw.githubusercontent.com/voidism/DoLa/main/figure.png\" width=\"500\"></p>\n",
        "\n",
        "arXiv link: https://arxiv.org/abs/2309.03883 \n",
        "code link: https://github.com/voidism/DoLa  \n",
        "twitter discussion: https://twitter.com/YungSungChuang/status/1701623359153316255\n",
        "\n",
        "\n",
        "> **Warning:** Colab Pro is required to run this code, as inference with LLaMA has high-RAM demand. Choose **V100 GPU** and turn on the **High-RAM Shape option** before running the code!\n",
        "\n",
        "> **Warning:** Running the code without **High-RAM Shape option**, the program will fail during loading the LLaMA checkpoints!\n"
      ]
    },
    {
      "cell_type": "markdown",
      "metadata": {
        "id": "KWmCNnzduLyk"
      },
      "source": [
        "## Setup\n",
        "\n",
        "1. git clone our repo\n",
        "2. install the customized transformers package (which supports a our new decoding method)\n",
        "3. install other requirements from pip"
      ]
    },
    {
      "cell_type": "code",
      "execution_count": null,
      "metadata": {
        "id": "yCxFW7_5shD-"
      },
      "outputs": [],
      "source": [
        "!git clone https://github.com/voidism/DoLa.git\n",
        "!cd DoLa/transformers-4.28.1 && pip install -e .\n",
        "!cd DoLa && pip install -r requirements.txt"
      ]
    },
    {
      "cell_type": "markdown",
      "metadata": {
        "id": "o_7SnNq4zqmK"
      },
      "source": [
        "## Run TruthfulQA-MC"
      ]
    },
    {
      "cell_type": "markdown",
      "metadata": {
        "id": "Qv8j8KM-ZY9k"
      },
      "source": [
        "### Baseline"
      ]
    },
    {
      "cell_type": "code",
      "execution_count": null,
      "metadata": {
        "id": "3U9XVC03OiOb"
      },
      "outputs": [],
      "source": [
        "!cd DoLa && python tfqa_mc_eval.py --model-name huggyllama/llama-7b --data-path ./tmp/ --output-path output-path-tfmc-baseline.json --num-gpus 1"
      ]
    },
    {
      "cell_type": "markdown",
      "metadata": {
        "id": "AVu3471tO2Yq"
      },
      "source": [
        "### DoLa"
      ]
    },
    {
      "cell_type": "code",
      "execution_count": null,
      "metadata": {
        "id": "oJ6UnRPzztLB"
      },
      "outputs": [],
      "source": [
        "!cd DoLa && python tfqa_mc_eval.py --model-name huggyllama/llama-7b --early-exit-layers 16,18,20,22,24,26,28,30,32 --data-path ./tmp/ --output-path output-path-tfqamc-dola.json --num-gpus 1"
      ]
    },
    {
      "cell_type": "markdown",
      "metadata": {
        "id": "h9ZzKviDt88b"
      },
      "source": [
        "## Run StrategyQA\n",
        "\n",
        "`(Warning: long running time ~2hrs)`"
      ]
    },
    {
      "cell_type": "markdown",
      "metadata": {
        "id": "4CDL4llSZb4j"
      },
      "source": [
        "### Baseline"
      ]
    },
    {
      "cell_type": "code",
      "execution_count": null,
      "metadata": {
        "id": "JYYF861SgaQX"
      },
      "outputs": [],
      "source": [
        "!cd DoLa && python strqa_eval.py --model-name huggyllama/llama-7b --data-path ./tmp/ --output-path output-path-strqa-baseline.json --num-gpus 1"
      ]
    },
    {
      "cell_type": "markdown",
      "metadata": {
        "id": "hbcr8_U8hvZS"
      },
      "source": [
        "### DoLa"
      ]
    },
    {
      "cell_type": "code",
      "execution_count": null,
      "metadata": {
        "id": "QEGY78-FhyO2"
      },
      "outputs": [],
      "source": [
        "!cd DoLa && python strqa_eval.py --model-name huggyllama/llama-7b --early-exit-layers 0,2,4,6,8,10,12,14,32 --repetition_penalty 1.2 --data-path ./tmp/ --output-path output-path-strqa-dola.json --num-gpus 1"
      ]
    },
    {
      "cell_type": "markdown",
      "metadata": {
        "id": "_ArpVGkdhT3M"
      },
      "source": [
        "## Run GSM8K\n",
        "\n",
        "`(Warning: long running time ~3hrs)`"
      ]
    },
    {
      "cell_type": "markdown",
      "metadata": {
        "id": "JJsysCpEZe4Z"
      },
      "source": [
        "### Baseline"
      ]
    },
    {
      "cell_type": "code",
      "execution_count": null,
      "metadata": {
        "id": "YPpSvyCnhWf1"
      },
      "outputs": [],
      "source": [
        "!cd DoLa && python gsm8k_eval.py --model-name huggyllama/llama-7b --data-path ./tmp/ --output-path output-path-gsm8k-baseline.json --num-gpus 1"
      ]
    },
    {
      "cell_type": "markdown",
      "metadata": {
        "id": "8pkZ7tAoh4nY"
      },
      "source": [
        "### DoLa"
      ]
    },
    {
      "cell_type": "code",
      "execution_count": null,
      "metadata": {
        "id": "G2Is_AXZh71n"
      },
      "outputs": [],
      "source": [
        "!cd DoLa && python gsm8k_eval.py --model-name huggyllama/llama-7b --early-exit-layers 0,2,4,6,8,10,12,14,32 --repetition_penalty 1.2 --data-path ./tmp/ --output-path output-path-gsm8k-dola.json --num-gpus 1"
      ]
    },
    {
      "cell_type": "markdown",
      "metadata": {
        "id": "FMc99LCeWVgr"
      },
      "source": [
        "## Other Datasets\n",
        "\n",
        "The above three tasks can be tested without additional requirements. For the other three datasets, you will need to do the following steps:\n",
        "\n",
        "- For FACTOR, please download the data file `wiki_factor.csv` from https://github.com/AI21Labs/factor\n",
        "- For TruthfulQA (open-ended generation setting), you need to finetune two GPT-3 curie models through OpenAI API, and use the finetuned models for evaluating the model outputs.\n",
        "- For Vicuna QA (GPT-4 eval), you need a OpenAI API key that has access to GPT-4 for the pairwise evaluation.\n",
        "\n",
        "Check more details in https://github.com/voidism/DoLa/blob/main/README.md"
      ]
    },
    {
      "cell_type": "markdown",
      "metadata": {},
      "source": [
        "## FACTOR\n",
        "Please download the data file `wiki_factor.csv` from https://github.com/AI21Labs/factor"
      ]
    },
    {
      "cell_type": "markdown",
      "metadata": {},
      "source": [
        "### Baseline"
      ]
    },
    {
      "cell_type": "code",
      "execution_count": null,
      "metadata": {},
      "outputs": [],
      "source": [
        "!cd DoLa && python factor_eval.py --model-name huggyllama/llama-7b --data-path /path/to/wiki_factor.csv --output-path output-path-factor-wiki-baseline.json --num-gpus 1"
      ]
    },
    {
      "cell_type": "markdown",
      "metadata": {},
      "source": [
        "### DoLa"
      ]
    },
    {
      "cell_type": "code",
      "execution_count": null,
      "metadata": {},
      "outputs": [],
      "source": [
        "!cd DoLa && python factor_eval.py --model-name huggyllama/llama-7b --early-exit-layers 0,2,4,6,8,10,12,14,32 --data-path /path/to/wiki_factor.csv --output-path output-path-factor-wiki-dola.json --num-gpus 1"
      ]
    },
    {
      "cell_type": "markdown",
      "metadata": {},
      "source": [
        "## TruthfulQA\n",
        "\n",
        "The config file `gpt3.config.json` is required. See more details in https://github.com/voidism/DoLa/blob/main/README.md"
      ]
    },
    {
      "cell_type": "markdown",
      "metadata": {},
      "source": [
        "### Baseline"
      ]
    },
    {
      "cell_type": "code",
      "execution_count": null,
      "metadata": {},
      "outputs": [],
      "source": [
        "!cd DoLa && python tfqa_eval.py --model-name huggyllama/llama-7b --data-path ./tmp/ --output-path output-path-tfqa-baseline.json --num-gpus 1 --do-rating --gpt3-config /path/to/gpt3.config.json"
      ]
    },
    {
      "cell_type": "markdown",
      "metadata": {},
      "source": [
        "### DoLa"
      ]
    },
    {
      "cell_type": "code",
      "execution_count": null,
      "metadata": {},
      "outputs": [],
      "source": [
        "!cd DoLa && python tfqa_eval.py --model-name huggyllama/llama-7b --early-exit-layers 16,18,20,22,24,26,28,30,32 --data-path ./tmp/ --output-path output-path-tfqa-dola.json --num-gpus 1 --do-rating --gpt3-config /path/to/gpt3.config.json"
      ]
    },
    {
      "cell_type": "markdown",
      "metadata": {},
      "source": [
        "## Vicuna QA (GPT-4 evaluation)\n",
        "\n",
        "In GPT-4 evaluation, we need the question file from [FastChat](https://github.com/lm-sys/FastChat). In the following commands, we assume the path to your FastChat repo is `$fastchat`."
      ]
    },
    {
      "cell_type": "markdown",
      "metadata": {},
      "source": [
        "### Baseline"
      ]
    },
    {
      "cell_type": "code",
      "execution_count": null,
      "metadata": {},
      "outputs": [],
      "source": [
        "!cd DoLa && python gpt4_judge_eval.py --model-name huggyllama/llama-7b --model-id llama-7b-baseline --question-file $fastchat/eval/table/question.jsonl --answer-file output-answer-baseline.jsonl --num-gpus 1"
      ]
    },
    {
      "cell_type": "markdown",
      "metadata": {},
      "source": [
        "### DoLa"
      ]
    },
    {
      "cell_type": "code",
      "execution_count": null,
      "metadata": {},
      "outputs": [],
      "source": [
        "!cd DoLa && python gpt4_judge_eval.py --model-name huggyllama/llama-7b --early-exit-layers 0,2,4,6,8,10,12,14,32 --model-id llama-7b-dola --question-file $fastchat/eval/table/question.jsonl --answer-file output-answer-dola.jsonl --num-gpus 1"
      ]
    },
    {
      "cell_type": "markdown",
      "metadata": {},
      "source": [
        "### Run GPT-4 \n",
        "\n",
        "`openai_api_key` is required."
      ]
    },
    {
      "cell_type": "code",
      "execution_count": null,
      "metadata": {},
      "outputs": [],
      "source": [
        "!cd DoLa && python $fastchat/eval/eval_gpt_review.py -q $fastchat/eval/table/question.jsonl -a output-answer-baseline.jsonl output-answer-dola.jsonl -p $fastchat/eval/table/prompt.jsonl -r $fastchat/eval/table/reviewer.jsonl -o output-review-path.jsonl -k openai_api_key"
      ]
    }
  ],
  "metadata": {
    "accelerator": "GPU",
    "colab": {
      "gpuType": "V100",
      "machine_shape": "hm",
      "provenance": []
    },
    "kernelspec": {
      "display_name": "Python 3",
      "name": "python3"
    },
    "language_info": {
      "name": "python"
    }
  },
  "nbformat": 4,
  "nbformat_minor": 0
}
